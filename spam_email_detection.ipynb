{
 "cells": [
  {
   "cell_type": "markdown",
   "id": "094985a1-4eef-4a08-b9c4-12357878a08c",
   "metadata": {},
   "source": [
    "# **Spam Mail Detection**\n",
    "This project aims to classify emails as spam or not spam (ham) using machine learning. It leverages Natural Language Processing (NLP) techniques to extract meaningful features from email text, which are then used to train a Naive Bayes classifier.\n",
    "##### The project follows a standard machine learning pipeline:\n",
    "1. **Scoping**: Defining the problem and goals.\n",
    "2. **The Data**: Loading, exploring, cleaning, and preparing the dataset.\n",
    "3. **The Model**: Building, training, and evaluating the machine learning model.\n"
   ]
  },
  {
   "cell_type": "markdown",
   "id": "4c527d77-51df-4258-8049-b9b0662b49d4",
   "metadata": {},
   "source": [
    "## **1. Scoping** \n",
    "##### Scoping means defining the boundaries and goals of a project."
   ]
  },
  {
   "cell_type": "markdown",
   "id": "a307fff9-87ed-4094-9a86-a494c465f406",
   "metadata": {},
   "source": [
    "#### **Import the necessary libraries**"
   ]
  },
  {
   "cell_type": "code",
   "execution_count": 21,
   "id": "2591720c-9149-4a59-a946-23993a256e15",
   "metadata": {},
   "outputs": [],
   "source": [
    "import pickle #model save/load  \n",
    "import numpy as np #arrays, math ops  \n",
    "import pandas as pd #dataframes, csv  \n",
    "import seaborn as sns #graphs, stats plot  \n",
    "import matplotlib.pyplot as plt #basic plotting  \n",
    "import string #handle text chars  \n",
    "import nltk #text processing\n",
    "import warnings #suppress warnings  "
   ]
  },
  {
   "cell_type": "code",
   "execution_count": 23,
   "id": "deda7108-4ad1-4d55-ac86-72dbfb06ca76",
   "metadata": {},
   "outputs": [],
   "source": [
    "from pickle import dump #save/load Python objects\n",
    "from sklearn.feature_extraction.text import CountVectorizer #convert text to vector\n",
    "from sklearn.model_selection import train_test_split \n",
    "from sklearn.naive_bayes import MultinomialNB \n",
    "from sklearn.metrics import classification_report, confusion_matrix, accuracy_score \n",
    "from nltk.corpus import stopwords "
   ]
  },
  {
   "cell_type": "code",
   "execution_count": 24,
   "id": "25d9c9d2-a0a3-45c5-9528-5197cf073426",
   "metadata": {},
   "outputs": [
    {
     "name": "stderr",
     "output_type": "stream",
     "text": [
      "[nltk_data] Downloading package stopwords to\n",
      "[nltk_data]     /Users/joelsmathewsj/nltk_data...\n",
      "[nltk_data]   Package stopwords is already up-to-date!\n"
     ]
    },
    {
     "data": {
      "text/plain": [
       "True"
      ]
     },
     "execution_count": 24,
     "metadata": {},
     "output_type": "execute_result"
    }
   ],
   "source": [
    "warnings.simplefilter(action='ignore', category=FutureWarning) #ignore future warnings  \n",
    "nltk.download('stopwords') #download stopwords list  "
   ]
  },
  {
   "cell_type": "markdown",
   "id": "39437b94-837c-4968-826a-bf6ca38ddd12",
   "metadata": {},
   "source": [
    "## **2. The Data** \n",
    "##### Refers to the raw or processed information used to train, test, or evaluate the model."
   ]
  },
  {
   "cell_type": "markdown",
   "id": "28eebb70-f99c-4763-9e99-5fdc39add4ad",
   "metadata": {},
   "source": [
    " #### **1.Data Loading**"
   ]
  },
  {
   "cell_type": "code",
   "execution_count": 25,
   "id": "3578b79d-a65e-4ca6-abd8-470856423eef",
   "metadata": {},
   "outputs": [
    {
     "name": "stdout",
     "output_type": "stream",
     "text": [
      "(5728, 2)\n"
     ]
    }
   ],
   "source": [
    "df = pd.read_csv('/Users/joelsmathewsj/Desktop/project/emails.csv') \n",
    "print(df.shape)"
   ]
  },
  {
   "cell_type": "code",
   "execution_count": 4,
   "id": "b32d6a47-cb7e-4193-bdaf-06ff3e41ff41",
   "metadata": {},
   "outputs": [
    {
     "data": {
      "text/html": [
       "<div>\n",
       "<style scoped>\n",
       "    .dataframe tbody tr th:only-of-type {\n",
       "        vertical-align: middle;\n",
       "    }\n",
       "\n",
       "    .dataframe tbody tr th {\n",
       "        vertical-align: top;\n",
       "    }\n",
       "\n",
       "    .dataframe thead th {\n",
       "        text-align: right;\n",
       "    }\n",
       "</style>\n",
       "<table border=\"1\" class=\"dataframe\">\n",
       "  <thead>\n",
       "    <tr style=\"text-align: right;\">\n",
       "      <th></th>\n",
       "      <th>text</th>\n",
       "      <th>spam</th>\n",
       "    </tr>\n",
       "  </thead>\n",
       "  <tbody>\n",
       "    <tr>\n",
       "      <th>0</th>\n",
       "      <td>Subject: naturally irresistible your corporate...</td>\n",
       "      <td>1</td>\n",
       "    </tr>\n",
       "    <tr>\n",
       "      <th>1</th>\n",
       "      <td>Subject: the stock trading gunslinger  fanny i...</td>\n",
       "      <td>1</td>\n",
       "    </tr>\n",
       "    <tr>\n",
       "      <th>2</th>\n",
       "      <td>Subject: unbelievable new homes made easy  im ...</td>\n",
       "      <td>1</td>\n",
       "    </tr>\n",
       "    <tr>\n",
       "      <th>3</th>\n",
       "      <td>Subject: 4 color printing special  request add...</td>\n",
       "      <td>1</td>\n",
       "    </tr>\n",
       "    <tr>\n",
       "      <th>4</th>\n",
       "      <td>Subject: do not have money , get software cds ...</td>\n",
       "      <td>1</td>\n",
       "    </tr>\n",
       "  </tbody>\n",
       "</table>\n",
       "</div>"
      ],
      "text/plain": [
       "                                                text  spam\n",
       "0  Subject: naturally irresistible your corporate...     1\n",
       "1  Subject: the stock trading gunslinger  fanny i...     1\n",
       "2  Subject: unbelievable new homes made easy  im ...     1\n",
       "3  Subject: 4 color printing special  request add...     1\n",
       "4  Subject: do not have money , get software cds ...     1"
      ]
     },
     "execution_count": 4,
     "metadata": {},
     "output_type": "execute_result"
    }
   ],
   "source": [
    "df.head()"
   ]
  },
  {
   "cell_type": "code",
   "execution_count": 5,
   "id": "d6d7fae2-e73a-43e9-802d-83e82587726c",
   "metadata": {},
   "outputs": [
    {
     "name": "stdout",
     "output_type": "stream",
     "text": [
      "<class 'pandas.core.frame.DataFrame'>\n",
      "RangeIndex: 5728 entries, 0 to 5727\n",
      "Data columns (total 2 columns):\n",
      " #   Column  Non-Null Count  Dtype \n",
      "---  ------  --------------  ----- \n",
      " 0   text    5728 non-null   object\n",
      " 1   spam    5728 non-null   int64 \n",
      "dtypes: int64(1), object(1)\n",
      "memory usage: 89.6+ KB\n"
     ]
    }
   ],
   "source": [
    "df.info()"
   ]
  },
  {
   "cell_type": "code",
   "execution_count": 6,
   "id": "4e3e5744-4476-4379-80d2-be46e8c95d66",
   "metadata": {},
   "outputs": [
    {
     "data": {
      "text/html": [
       "<div>\n",
       "<style scoped>\n",
       "    .dataframe tbody tr th:only-of-type {\n",
       "        vertical-align: middle;\n",
       "    }\n",
       "\n",
       "    .dataframe tbody tr th {\n",
       "        vertical-align: top;\n",
       "    }\n",
       "\n",
       "    .dataframe thead th {\n",
       "        text-align: right;\n",
       "    }\n",
       "</style>\n",
       "<table border=\"1\" class=\"dataframe\">\n",
       "  <thead>\n",
       "    <tr style=\"text-align: right;\">\n",
       "      <th></th>\n",
       "      <th>spam</th>\n",
       "    </tr>\n",
       "  </thead>\n",
       "  <tbody>\n",
       "    <tr>\n",
       "      <th>count</th>\n",
       "      <td>5728.000000</td>\n",
       "    </tr>\n",
       "    <tr>\n",
       "      <th>mean</th>\n",
       "      <td>0.238827</td>\n",
       "    </tr>\n",
       "    <tr>\n",
       "      <th>std</th>\n",
       "      <td>0.426404</td>\n",
       "    </tr>\n",
       "    <tr>\n",
       "      <th>min</th>\n",
       "      <td>0.000000</td>\n",
       "    </tr>\n",
       "    <tr>\n",
       "      <th>25%</th>\n",
       "      <td>0.000000</td>\n",
       "    </tr>\n",
       "    <tr>\n",
       "      <th>50%</th>\n",
       "      <td>0.000000</td>\n",
       "    </tr>\n",
       "    <tr>\n",
       "      <th>75%</th>\n",
       "      <td>0.000000</td>\n",
       "    </tr>\n",
       "    <tr>\n",
       "      <th>max</th>\n",
       "      <td>1.000000</td>\n",
       "    </tr>\n",
       "  </tbody>\n",
       "</table>\n",
       "</div>"
      ],
      "text/plain": [
       "              spam\n",
       "count  5728.000000\n",
       "mean      0.238827\n",
       "std       0.426404\n",
       "min       0.000000\n",
       "25%       0.000000\n",
       "50%       0.000000\n",
       "75%       0.000000\n",
       "max       1.000000"
      ]
     },
     "execution_count": 6,
     "metadata": {},
     "output_type": "execute_result"
    }
   ],
   "source": [
    "df.describe()"
   ]
  },
  {
   "cell_type": "markdown",
   "id": "3cf88ebb-145a-478a-891a-25ad5e57f617",
   "metadata": {},
   "source": [
    "#### **2.Data Visualization**"
   ]
  },
  {
   "cell_type": "code",
   "execution_count": 7,
   "id": "ef9af7cc-3d15-4254-8190-c2bc332eade7",
   "metadata": {},
   "outputs": [
    {
     "data": {
      "image/png": "[encoded data removed]",
      "text/plain": [
       "<Figure size 640x480 with 1 Axes>"
      ]
     },
     "metadata": {},
     "output_type": "display_data"
    }
   ],
   "source": [
    "plt.figure(dpi=100)\n",
    "sns.countplot(x='spam', data=df)\n",
    "plt.title(\"Spam Frequencies\")\n",
    "plt.show()"
   ]
  },
  {
   "cell_type": "markdown",
   "id": "3ed34268-97f9-4152-aecc-542fb0280f6f",
   "metadata": {},
   "source": [
    "#### **3. Data Cleaning**"
   ]
  },
  {
   "cell_type": "code",
   "execution_count": 8,
   "id": "3e0604fc-5d3f-4674-b091-d111e04e6a4c",
   "metadata": {},
   "outputs": [
    {
     "name": "stdout",
     "output_type": "stream",
     "text": [
      "text    0\n",
      "spam    0\n",
      "dtype: int64\n"
     ]
    }
   ],
   "source": [
    "print(df.isnull().sum())"
   ]
  },
  {
   "cell_type": "code",
   "execution_count": 11,
   "id": "d6b7119a-afc1-4b77-8491-1c86540b9ef9",
   "metadata": {},
   "outputs": [],
   "source": [
    "df.drop_duplicates(inplace=True)"
   ]
  },
  {
   "cell_type": "code",
   "execution_count": 12,
   "id": "592852bb-548e-4867-8b1f-c9c1d6aac3c7",
   "metadata": {},
   "outputs": [],
   "source": [
    "def text_process(text):\n",
    "    no_punc = [char for char in text if char not in string.punctuation] #remove punctuation \n",
    "    no_punc = ''.join(no_punc)\n",
    "    clean_words = [word for word in no_punc.split() if word.lower() not in stopwords.words('english')] #remove stopwords \n",
    "    return clean_words"
   ]
  },
  {
   "cell_type": "code",
   "execution_count": 13,
   "id": "068ea2e4-cf19-46b2-961a-677e8a9c84ff",
   "metadata": {},
   "outputs": [],
   "source": [
    "msg_vec = CountVectorizer(analyzer=text_process).fit_transform(df['text']) #vectorize text data \n",
    "dump(msg_vec, open(\"/Users/joelsmathewsj/Desktop/project/models/vectorizer.pkl\", \"wb\")) #save vectorizer to file  "
   ]
  },
  {
   "cell_type": "markdown",
   "id": "205a5d55-da6f-4fe2-8b14-f35e2db71a02",
   "metadata": {},
   "source": [
    "#### **4. Data Splitting**"
   ]
  },
  {
   "cell_type": "code",
   "execution_count": 14,
   "id": "60b9d6f1-16bf-44d4-b829-7edc0de5f453",
   "metadata": {},
   "outputs": [],
   "source": [
    "X_train, X_test, y_train, y_test = train_test_split(msg_vec, df['spam'], test_size=0.20, random_state=0)"
   ]
  },
  {
   "cell_type": "code",
   "execution_count": 15,
   "id": "146fbf2a-6707-4b5d-bbf9-ffc4da64f111",
   "metadata": {},
   "outputs": [],
   "source": [
    "model = MultinomialNB()\n",
    "model.fit(X_train, y_train)\n",
    "dump(model, open(\"/Users/joelsmathewsj/Desktop/project/models/model.pkl\", 'wb'))"
   ]
  },
  {
   "cell_type": "markdown",
   "id": "b88d86db-c55a-471b-95e4-2381d98f59ab",
   "metadata": {},
   "source": [
    "## **3. The Model**"
   ]
  },
  {
   "cell_type": "code",
   "execution_count": 16,
   "id": "72af8416-c55c-437c-8796-64559819b2cd",
   "metadata": {},
   "outputs": [],
   "source": [
    "y_pred = model.predict(X_test)"
   ]
  },
  {
   "cell_type": "code",
   "execution_count": 17,
   "id": "119203f6-527b-4895-a3b0-76499e2f7436",
   "metadata": {},
   "outputs": [
    {
     "name": "stdout",
     "output_type": "stream",
     "text": [
      "Model Accuracy: 99.21%\n"
     ]
    }
   ],
   "source": [
    "acc = accuracy_score(y_test, y_pred)\n",
    "print(f\"Model Accuracy: {acc * 100:.2f}%\")"
   ]
  },
  {
   "cell_type": "code",
   "execution_count": 18,
   "id": "5bb2131c-0203-44ab-9f6d-791b07bf960a",
   "metadata": {},
   "outputs": [
    {
     "name": "stdout",
     "output_type": "stream",
     "text": [
      "              precision    recall  f1-score   support\n",
      "\n",
      "           0       1.00      0.99      0.99       870\n",
      "           1       0.97      1.00      0.98       269\n",
      "\n",
      "    accuracy                           0.99      1139\n",
      "   macro avg       0.98      0.99      0.99      1139\n",
      "weighted avg       0.99      0.99      0.99      1139\n",
      "\n"
     ]
    }
   ],
   "source": [
    "print(classification_report(y_test, y_pred))"
   ]
  },
  {
   "cell_type": "code",
   "execution_count": 20,
   "id": "49ace0dd-f1f4-451b-88a7-5addefc0d86c",
   "metadata": {},
   "outputs": [
    {
     "data": {
      "image/png": "[encoded data removed]",
      "text/plain": [
       "<Figure size 640x480 with 1 Axes>"
      ]
     },
     "metadata": {},
     "output_type": "display_data"
    }
   ],
   "source": [
    "cm = confusion_matrix(y_test, y_pred)\n",
    "plt.figure(dpi=100)\n",
    "sns.heatmap(cm, annot=True, fmt='d', cmap='Blues', cbar=False)\n",
    "plt.title(\"Confusion Matrix\")\n",
    "plt.xlabel(\"Predicted Label\")\n",
    "plt.ylabel(\"True Label\")\n",
    "plt.show()"
   ]
  }
 ],
 "metadata": {
  "kernelspec": {
   "display_name": "Python 3 (ipykernel)",
   "language": "python",
   "name": "python3"
  },
  "language_info": {
   "codemirror_mode": {
    "name": "ipython",
    "version": 3
   },
   "file_extension": ".py",
   "mimetype": "text/x-python",
   "name": "python",
   "nbconvert_exporter": "python",
   "pygments_lexer": "ipython3",
   "version": "3.13.5"
  }
 },
 "nbformat": 4,
 "nbformat_minor": 5
}
